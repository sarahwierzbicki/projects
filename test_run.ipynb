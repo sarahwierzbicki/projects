{
  "nbformat": 4,
  "nbformat_minor": 0,
  "metadata": {
    "colab": {
      "provenance": [],
      "mount_file_id": "11n7bOJ6cEYsPa76N-YoEEvgjREMA8q6r",
      "authorship_tag": "ABX9TyM+bwPI0QKCMdBsHrQsfg8Q",
      "include_colab_link": true
    },
    "kernelspec": {
      "name": "python3",
      "display_name": "Python 3"
    },
    "language_info": {
      "name": "python"
    }
  },
  "cells": [
    {
      "cell_type": "markdown",
      "metadata": {
        "id": "view-in-github",
        "colab_type": "text"
      },
      "source": [
        "<a href=\"https://colab.research.google.com/github/sarahwierzbicki/projects/blob/main/test_run.ipynb\" target=\"_parent\"><img src=\"https://colab.research.google.com/assets/colab-badge.svg\" alt=\"Open In Colab\"/></a>"
      ]
    },
    {
      "cell_type": "code",
      "source": [
        "!pip install PyPDF2\n",
        "!pip install python-docx"
      ],
      "metadata": {
        "colab": {
          "base_uri": "https://localhost:8080/"
        },
        "id": "KlZmW26cj7Aq",
        "outputId": "2216ae24-4ed8-4fc0-9e63-13ec6c9fd242"
      },
      "execution_count": null,
      "outputs": [
        {
          "output_type": "stream",
          "name": "stdout",
          "text": [
            "Collecting PyPDF2\n",
            "  Downloading pypdf2-3.0.1-py3-none-any.whl.metadata (6.8 kB)\n",
            "Downloading pypdf2-3.0.1-py3-none-any.whl (232 kB)\n",
            "\u001b[?25l   \u001b[90m━━━━━━━━━━━━━━━━━━━━━━━━━━━━━━━━━━━━━━━━\u001b[0m \u001b[32m0.0/232.6 kB\u001b[0m \u001b[31m?\u001b[0m eta \u001b[36m-:--:--\u001b[0m\r\u001b[2K   \u001b[91m━━━━━━━━━━━━\u001b[0m\u001b[90m╺\u001b[0m\u001b[90m━━━━━━━━━━━━━━━━━━━━━━━━━━━\u001b[0m \u001b[32m71.7/232.6 kB\u001b[0m \u001b[31m2.6 MB/s\u001b[0m eta \u001b[36m0:00:01\u001b[0m\r\u001b[2K   \u001b[90m━━━━━━━━━━━━━━━━━━━━━━━━━━━━━━━━━━━━━━━━\u001b[0m \u001b[32m232.6/232.6 kB\u001b[0m \u001b[31m3.5 MB/s\u001b[0m eta \u001b[36m0:00:00\u001b[0m\n",
            "\u001b[?25hInstalling collected packages: PyPDF2\n",
            "Successfully installed PyPDF2-3.0.1\n",
            "Collecting python-docx\n",
            "  Downloading python_docx-1.2.0-py3-none-any.whl.metadata (2.0 kB)\n",
            "Requirement already satisfied: lxml>=3.1.0 in /usr/local/lib/python3.11/dist-packages (from python-docx) (5.4.0)\n",
            "Requirement already satisfied: typing_extensions>=4.9.0 in /usr/local/lib/python3.11/dist-packages (from python-docx) (4.14.0)\n",
            "Downloading python_docx-1.2.0-py3-none-any.whl (252 kB)\n",
            "\u001b[2K   \u001b[90m━━━━━━━━━━━━━━━━━━━━━━━━━━━━━━━━━━━━━━━━\u001b[0m \u001b[32m253.0/253.0 kB\u001b[0m \u001b[31m4.2 MB/s\u001b[0m eta \u001b[36m0:00:00\u001b[0m\n",
            "\u001b[?25hInstalling collected packages: python-docx\n",
            "Successfully installed python-docx-1.2.0\n"
          ]
        }
      ]
    },
    {
      "cell_type": "code",
      "source": [
        "#imports\n",
        "from PyPDF2 import PdfReader\n",
        "from docx import Document\n",
        "import spacy\n",
        "import numpy as np\n",
        "import pandas as pd\n",
        "import re\n",
        "import preprocessing_module\n",
        "from transformers import pipeline"
      ],
      "metadata": {
        "id": "_sU_8XQoj7_S"
      },
      "execution_count": null,
      "outputs": []
    },
    {
      "cell_type": "code",
      "source": [
        "#test upload\n",
        "resume = 'Sarah_Wierzbicki_Resume_6192025.pdf'\n",
        "text = preprocessing_module.get_pdf_text(resume)"
      ],
      "metadata": {
        "id": "GpUW4XGljcqc"
      },
      "execution_count": null,
      "outputs": []
    },
    {
      "cell_type": "code",
      "source": [
        "text"
      ],
      "metadata": {
        "colab": {
          "base_uri": "https://localhost:8080/",
          "height": 105
        },
        "id": "Vx9iJh1cmvqO",
        "outputId": "9bd62d31-3d19-4613-bbce-3714e2846569"
      },
      "execution_count": null,
      "outputs": [
        {
          "output_type": "execute_result",
          "data": {
            "text/plain": [
              "'Sarah Wierzbicki  \\nBrooklyn, NY 11237 | (845) 551 -5292 | sarwierzbicki@gmail.com   \\nEDUCATION       \\nPace University | Seidenberg School of CSIS                                                                                                New York, NY    \\nMaster of Science: Computer  Science                                                                                                            Expected August 2025   \\n• 3.8 GPA    \\nBinghamton University | Harpur College of Arts and Sciences                                                            Binghamton,  NY                                          \\nBachelor of Science: Chemistry                                                                                                                August 2017 – May 2021  \\nTECHNICAL  SKILLS       \\n• Programming Languages: Python (intermediate), Java (beginner), SQL, HTML  \\n• Machine Learning Applications: TensorFlow, PyTorch, Keras, Sci -kit Learn , Natural Language Processing \\nand Image Classification  \\n• Data Analysis: Python, Excel, MySQL  \\nPROFESSIONAL EXPERIENCE       \\nNYU Grossman School of Medicine                                                                                                                                                                                New York, NY    \\nResearch Technician                      January 2022 - present  \\n• Member of the Environmental Pediatric research team responsible for identifying and researching chemicals \\nin the environment which lead to chronic childhood illnesses  \\n• Manages project involving the detection of glyphosate in human samples using solid phase extraction \\ntechniques and liquid chromatography mass spectrometry for quantitation  \\n• Implements data analysis techniques in Excel and Analyst software to report findings to principal \\ninvestigators  \\n• Aides in method development for novel projects from extraction techniques to instrumental methods of \\nanalysis  \\n• Corresponds with project team to efficiently meet deadlines and submit research findings  \\nPhyto-Farma Labs LLC                                                                                                                                                                                                   Warwick, NY    \\nQuality Control Chemist                                                                                                                          July 2021 – December 2021   \\n• Responsible for experimental procedures regarding the quantification of cannabinoids and their derivatives \\nusing high -performance liquid chromatography  \\n• Assisted in method development and validation required for compliance testing of various cannabinoids and \\ntheir derivatives, including development of standard operating procedures  \\n• Performed standard lab inventory and reported findings using a custom web template built using HTML  \\n  \\nPROJECT EXPERIENCE       \\nPace University | Seidenberg School of CSIS                                                                                                                                                       New York, NY  \\nImage Classification Using Pytorch and Tensorflow                               Spring 2025   \\n• Implemented transfer learning techniques to classify images of flowers using both Pyt orch and Tensorflow.  \\n• Fine-tuned an instance of a VGG19 model in Tensorflow to predict with 87% accuracy  \\n• Used Pytorch and the MobileNetV2 model as a base model with a custom classifer for image classification  \\n• Achieved  92% test accuracy using a built training loop  \\nNYC Taxi Trip Duration Predictor for January 2020                                                                                                      Spring 2025   \\n• Developed several deep learning models using TensorFlow and Keras to predict NYC taxi ride durations \\nduring January 2020  \\n• Improved predictions by 20% through data validation and model testing, indicating the proficiency of built \\nMulti-Layer Perceptron Model  '"
            ],
            "application/vnd.google.colaboratory.intrinsic+json": {
              "type": "string"
            }
          },
          "metadata": {},
          "execution_count": 13
        }
      ]
    },
    {
      "cell_type": "code",
      "source": [
        "process_text = preprocessing_module.process(text)"
      ],
      "metadata": {
        "id": "k8UNBPVbmyH9"
      },
      "execution_count": null,
      "outputs": []
    },
    {
      "cell_type": "code",
      "source": [
        "process_text"
      ],
      "metadata": {
        "colab": {
          "base_uri": "https://localhost:8080/",
          "height": 105
        },
        "id": "SiMysLsxnqCs",
        "outputId": "246291d4-4bc2-4476-809a-5772c08b3a88"
      },
      "execution_count": null,
      "outputs": [
        {
          "output_type": "execute_result",
          "data": {
            "text/plain": [
              "'sarah wierzbicki brooklyn ny sarwierzbicki gmail com education pace university seidenberg school csis new york ny master science computer science expected august gpa binghamton university harpur college arts sciences binghamton ny bachelor science chemistry august technical skills programming languages python intermediate java beginner sql html machine learning applications tensorflow pytorch keras sci kit learn natural language processing image classification data analysis python excel mysql professional experience nyu grossman school medicine new york ny research technician january present member environmental pediatric research team responsible identifying researching chemicals environment lead chronic childhood illnesses manages project involving detection glyphosate human samples solid phase extraction techniques liquid chromatography mass spectrometry quantitation implements data analysis techniques excel analyst software report findings principal investigators aides method development novel projects extraction techniques instrumental methods analysis corresponds project team efficiently meet deadlines submit research findings phyto farma labs llc warwick ny quality control chemist july december responsible experimental procedures quantification cannabinoids derivatives high performance liquid chromatography assisted method development validation required compliance testing cannabinoids derivatives including development standard operating procedures performed standard lab inventory reported findings custom web template built html project experience pace university seidenberg school csis new york ny image classification pytorch tensorflow spring implemented transfer learning techniques classify images flowers pyt orch tensorflow fine tuned instance vgg model tensorflow predict accuracy pytorch mobilenetv model base model custom classifer image classification achieved test accuracy built training loop nyc taxi trip duration predictor january spring developed deep learning models tensorflow keras predict nyc taxi ride durations january improved predictions data validation model testing indicating proficiency built multi layer perceptron model'"
            ],
            "application/vnd.google.colaboratory.intrinsic+json": {
              "type": "string"
            }
          },
          "metadata": {},
          "execution_count": 18
        }
      ]
    },
    {
      "cell_type": "code",
      "execution_count": null,
      "metadata": {
        "colab": {
          "base_uri": "https://localhost:8080/"
        },
        "id": "qdNK5Cz3jXoI",
        "outputId": "5ac55fde-cc3f-440e-9735-5d508fa375b3"
      },
      "outputs": [
        {
          "output_type": "stream",
          "name": "stderr",
          "text": [
            "Device set to use cpu\n"
          ]
        }
      ],
      "source": [
        "pipe = pipeline(model = '/content/drive/MyDrive/capstone/roberta-for-resume-classifying-infer', task = 'text-classification')"
      ]
    },
    {
      "cell_type": "code",
      "source": [
        "pipe(process_text)"
      ],
      "metadata": {
        "colab": {
          "base_uri": "https://localhost:8080/"
        },
        "id": "4NIkQb_4jgkK",
        "outputId": "82dff189-716f-46fb-ef80-2f1f74f551f4"
      },
      "execution_count": null,
      "outputs": [
        {
          "output_type": "execute_result",
          "data": {
            "text/plain": [
              "[{'label': 'AGRICULTURE', 'score': 0.796071469783783}]"
            ]
          },
          "metadata": {},
          "execution_count": 17
        }
      ]
    }
  ]
}