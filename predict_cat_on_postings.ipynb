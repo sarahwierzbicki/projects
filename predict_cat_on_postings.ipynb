{
  "cells": [
    {
      "cell_type": "markdown",
      "metadata": {
        "id": "view-in-github",
        "colab_type": "text"
      },
      "source": [
        "<a href=\"https://colab.research.google.com/github/sarahwierzbicki/projects/blob/main/predict_cat_on_postings.ipynb\" target=\"_parent\"><img src=\"https://colab.research.google.com/assets/colab-badge.svg\" alt=\"Open In Colab\"/></a>"
      ]
    },
    {
      "cell_type": "code",
      "execution_count": null,
      "metadata": {
        "id": "ryf6AAcm9Rae"
      },
      "outputs": [],
      "source": [
        "from datasets import load_dataset\n",
        "from transformers import AutoModelForSequenceClassification, AutoTokenizer\n",
        "import torch"
      ]
    },
    {
      "cell_type": "code",
      "execution_count": null,
      "metadata": {
        "id": "rVRGkr0uGpEf"
      },
      "outputs": [],
      "source": [
        "!pip install PyPDF2\n",
        "!pip install python-docx"
      ]
    },
    {
      "cell_type": "markdown",
      "metadata": {
        "id": "gcPYEpmb-Cdr"
      },
      "source": [
        "pre-processing"
      ]
    },
    {
      "cell_type": "code",
      "execution_count": null,
      "metadata": {
        "id": "tzThM3OhG9YI"
      },
      "outputs": [],
      "source": [
        "#imports\n",
        "from PyPDF2 import PdfReader\n",
        "from docx import Document\n",
        "import spacy\n",
        "import numpy as np\n",
        "import pandas as pd\n",
        "import re"
      ]
    },
    {
      "cell_type": "code",
      "execution_count": null,
      "metadata": {
        "id": "peADHByvGsKx"
      },
      "outputs": [],
      "source": [
        "df = pd.read_csv('/content/drive/MyDrive/capstone/filtered_jobpostings.csv')"
      ]
    },
    {
      "cell_type": "code",
      "execution_count": null,
      "metadata": {
        "id": "dltnrnlyGmEz"
      },
      "outputs": [],
      "source": [
        "import preprocessing_module"
      ]
    },
    {
      "cell_type": "code",
      "execution_count": null,
      "metadata": {
        "id": "80skuU04Ihqu"
      },
      "outputs": [],
      "source": [
        "df"
      ]
    },
    {
      "cell_type": "code",
      "execution_count": null,
      "metadata": {
        "id": "2PK1if3DItKW"
      },
      "outputs": [],
      "source": [
        "job_df = df.drop_duplicates()"
      ]
    },
    {
      "cell_type": "code",
      "execution_count": null,
      "metadata": {
        "id": "GcUjlXemIx2G"
      },
      "outputs": [],
      "source": [
        "job_df['description'] = job_df['description'].str.strip()"
      ]
    },
    {
      "cell_type": "code",
      "execution_count": null,
      "metadata": {
        "id": "DwJQM51_JDN2"
      },
      "outputs": [],
      "source": [
        "df['processed_description'] = df['description'].apply(preprocessing_module.process)"
      ]
    },
    {
      "cell_type": "code",
      "execution_count": null,
      "metadata": {
        "id": "sxT1R-JDJ02V"
      },
      "outputs": [],
      "source": [
        "df"
      ]
    },
    {
      "cell_type": "markdown",
      "metadata": {
        "id": "b3Z70_Mf-AtC"
      },
      "source": [
        "predict"
      ]
    },
    {
      "cell_type": "code",
      "execution_count": null,
      "metadata": {
        "id": "jCZEif5gN1Ws"
      },
      "outputs": [],
      "source": [
        "from datasets import Dataset\n",
        "from transformers import pipeline"
      ]
    },
    {
      "cell_type": "code",
      "execution_count": null,
      "metadata": {
        "id": "jZZYSK_49Ze2"
      },
      "outputs": [],
      "source": [
        "model_name = \"/content/drive/MyDrive/capstone/final-roberta-for-resume-classifying\"\n",
        "tokenizer = AutoTokenizer.from_pretrained(model_name)\n",
        "model = AutoModelForSequenceClassification.from_pretrained(model_name)"
      ]
    },
    {
      "cell_type": "code",
      "execution_count": null,
      "metadata": {
        "id": "sa1kOUDjyw5E"
      },
      "outputs": [],
      "source": [
        "model.eval()"
      ]
    },
    {
      "cell_type": "code",
      "execution_count": null,
      "metadata": {
        "id": "2_2Y93_XzlwY"
      },
      "outputs": [],
      "source": [
        "#make dataset\n",
        "predict_df = df[['processed_description', 'title']]\n",
        "predict_dataset = Dataset.from_pandas(predict_df)"
      ]
    },
    {
      "cell_type": "code",
      "execution_count": null,
      "metadata": {
        "id": "soE7jlaTzIbS"
      },
      "outputs": [],
      "source": [
        "#tokenize inputs\n",
        "def tokenize(batch):\n",
        "      return tokenizer(batch['processed_description'], padding=\"max_length\", truncation=True)"
      ]
    },
    {
      "cell_type": "code",
      "execution_count": null,
      "metadata": {
        "id": "HZqarPyL0Heo"
      },
      "outputs": [],
      "source": [
        "predict_dataset = predict_dataset.remove_columns('title')"
      ]
    },
    {
      "cell_type": "code",
      "execution_count": null,
      "metadata": {
        "id": "GZh_a9AI0Rd2"
      },
      "outputs": [],
      "source": [
        "dataset = predict_dataset.map(tokenize, batched = True)"
      ]
    },
    {
      "cell_type": "code",
      "execution_count": null,
      "metadata": {
        "id": "RwcqiLl_0vSm"
      },
      "outputs": [],
      "source": [
        "dataset.set_format(\"torch\", columns=[\"input_ids\", \"attention_mask\"])"
      ]
    },
    {
      "cell_type": "code",
      "execution_count": null,
      "metadata": {
        "id": "y0Sp-HfE2W8w"
      },
      "outputs": [],
      "source": [
        "from transformers import Trainer, TrainingArguments"
      ]
    },
    {
      "cell_type": "code",
      "execution_count": null,
      "metadata": {
        "id": "k_KvWSDf1_-y"
      },
      "outputs": [],
      "source": [
        "test_args = TrainingArguments(\n",
        "    output_dir=\"./results\",\n",
        "    do_train=False,\n",
        "    do_predict=True,\n",
        "    per_device_eval_batch_size=8,\n",
        "    dataloader_drop_last=False\n",
        "   )"
      ]
    },
    {
      "cell_type": "code",
      "execution_count": null,
      "metadata": {
        "id": "k5Mniw9e2Fwp"
      },
      "outputs": [],
      "source": [
        "trainer = Trainer(\n",
        "       model=model,\n",
        "       args=test_args,\n",
        "   )"
      ]
    },
    {
      "cell_type": "code",
      "execution_count": null,
      "metadata": {
        "id": "ZROKM0Ly_b_I"
      },
      "outputs": [],
      "source": [
        "!pip install numpy==1.26.4"
      ]
    },
    {
      "cell_type": "code",
      "execution_count": null,
      "metadata": {
        "colab": {
          "background_save": true
        },
        "id": "XAkYlQV02Lu6"
      },
      "outputs": [],
      "source": [
        "results = trainer.predict(dataset)"
      ]
    },
    {
      "cell_type": "code",
      "execution_count": null,
      "metadata": {
        "colab": {
          "background_save": true
        },
        "id": "rRzGdEO_y5pU"
      },
      "outputs": [],
      "source": [
        "print(results.predictions)"
      ]
    },
    {
      "cell_type": "code",
      "execution_count": null,
      "metadata": {
        "colab": {
          "background_save": true
        },
        "id": "V9s1zs2JSW9R"
      },
      "outputs": [],
      "source": [
        "print(results.metrics)"
      ]
    },
    {
      "cell_type": "code",
      "execution_count": null,
      "metadata": {
        "colab": {
          "background_save": true
        },
        "id": "B8ykcyZ6Qn4Q"
      },
      "outputs": [],
      "source": [
        "#manual mapping :,(\n",
        "id2label = {0: \"ACCOUNTANT\", 1: 'ADVOCATE', 2: 'AGRICULTURE', 3: 'APPAREL', 4: 'ARTS', 5: 'AUTOMOBILE', 6: 'AVIATION', 7: 'BANKING', 8: 'BPO', 9: 'BUSNIESS-DEVELOPMENT', 10: 'CHEF', 11: 'CONSTRUCTION', 12: 'CONSULTANT', 13: 'DESIGNER', 14: 'DIGITAL-MEDIA', 15: 'ENGINEERING', 16: 'FINANCE', 17: 'FITNESS', 18: 'HEALTHCARE', 19: 'HR', 20: 'INFORMATION-TECHNOLOGY', 21: 'PUBLIC-RELATIONS', 22: 'SALES', 23: 'TEACHER'}\n",
        "label2id = {\"ACCOUNTANT\": 0,'ADVOCATE': 1, 'AGRICULTURE': 2,  'APPAREL':3, 'ARTS': 4, 'AUTOMOBILE': 5, 'AVIATION': 6, 'BANKING': 7, 'BPO': 8, 'BUSNIESS-DEVELOPMENT': 9, 'CHEF': 10, 'CONSTRUCTION': 11, 'CONSULTANT': 12, 'DESIGNER': 13, 'DIGITAL-MEDIA': 14, 'ENGINEERING': 15, 'FINANCE': 16, 'FITNESS': 17, 'HEALTHCARE': 18, 'HR': 19, 'INFORMATION-TECHNOLOGY': 20, 'PUBLIC-RELATIONS': 21, 'SALES': 22, 'TEACHER': 23}"
      ]
    },
    {
      "cell_type": "code",
      "execution_count": null,
      "metadata": {
        "colab": {
          "background_save": true
        },
        "id": "c94yFOrcTORS"
      },
      "outputs": [],
      "source": [
        "predicted_indices = np.argmax(results.predictions, axis=1)"
      ]
    },
    {
      "cell_type": "code",
      "execution_count": null,
      "metadata": {
        "colab": {
          "background_save": true
        },
        "id": "HgbXxs7YUjfY"
      },
      "outputs": [],
      "source": [
        "prediction_df = pd.DataFrame(predicted_indices)"
      ]
    },
    {
      "cell_type": "code",
      "execution_count": null,
      "metadata": {
        "colab": {
          "background_save": true
        },
        "id": "sFZTnIrWUtYI"
      },
      "outputs": [],
      "source": [
        "prediction_df['Category'] = prediction_df[0].map(id2label)"
      ]
    },
    {
      "cell_type": "code",
      "execution_count": null,
      "metadata": {
        "colab": {
          "background_save": true
        },
        "id": "E0fIvQlAVDyR"
      },
      "outputs": [],
      "source": [
        "prediction_df"
      ]
    },
    {
      "cell_type": "code",
      "execution_count": null,
      "metadata": {
        "colab": {
          "background_save": true
        },
        "id": "4VVRKunfVvJH"
      },
      "outputs": [],
      "source": [
        "df"
      ]
    },
    {
      "cell_type": "code",
      "execution_count": null,
      "metadata": {
        "colab": {
          "background_save": true
        },
        "id": "__LYurHIWaHK"
      },
      "outputs": [],
      "source": [
        "final_df = prediction_df.join(df)"
      ]
    },
    {
      "cell_type": "code",
      "execution_count": null,
      "metadata": {
        "colab": {
          "background_save": true
        },
        "id": "RJGigFhyWesd"
      },
      "outputs": [],
      "source": [
        "final_df.drop('Unnamed: 0', axis = 1, inplace=True)"
      ]
    },
    {
      "cell_type": "code",
      "execution_count": null,
      "metadata": {
        "colab": {
          "background_save": true
        },
        "id": "YKINS0VOWtB3"
      },
      "outputs": [],
      "source": [
        "final_df"
      ]
    },
    {
      "cell_type": "code",
      "execution_count": null,
      "metadata": {
        "colab": {
          "background_save": true
        },
        "id": "pkvxm_xRW6PN"
      },
      "outputs": [],
      "source": [
        "final_df[final_df['Category'] == 'DIGITAL-MEDIA']"
      ]
    },
    {
      "cell_type": "code",
      "execution_count": null,
      "metadata": {
        "id": "_A0emz4oXjuE"
      },
      "outputs": [],
      "source": [
        "final_df.to_json('jobpostingswithcategory.json')\n",
        "final_df.to_csv('jobpostingswithcategory.csv')"
      ]
    },
    {
      "cell_type": "code",
      "execution_count": null,
      "metadata": {
        "colab": {
          "background_save": true
        },
        "id": "MGH-kMW4CfB3"
      },
      "outputs": [],
      "source": [
        "pipe = pipeline(model = '/content/drive/MyDrive/capstone/roberta-for-resume-classifying-infer', task = 'text-classification')"
      ]
    },
    {
      "cell_type": "code",
      "execution_count": null,
      "metadata": {
        "id": "S-VJ8Clci3H8"
      },
      "outputs": [],
      "source": [
        "pipe('passenger service concourse manager summary dedicated enthusiastic leader able motivate employees perform best providing excellent service developing ongoing profitable client relationships creative resourceful flexible able adapt changing priorities maintain positive attitude strong work ethic skills strategic planning team building personable client relationships dedicated flexible relationship building decision making time management conflict resolution adaptability ability work pressure creativity ability work team microsoft word word processing spreadsheet microsoft excel microsoft programs scheduling accomplishments promoted times years diverse skill set managing employees customers areas aviation business proven ability manage complex concourses atlanta airport established trustworthy relationship clients multiple concourses experience current passenger service concourse manager company city state maintain appearance equipment utilized day managing daily operation driving safety policies directly responsible overseeing zone leaders communicated trained pushed operational changes directed maintained healthy working environment working busy atmosphere maintained provided daily schedule dispatchers senior leaders attended delta shift briefing regularly effort communicate expectations day address possible concern raised delta staff addressed overall concourse operation concerns fulfill customer request regularly timely manner provide daily huddle direction staff preparation daily operation coach counsel employees recognize employees diffuse situations challenge delays maintain effective operational performance revamp processes necessary provide leadership employees daily provide hands team work focus drive dress code policy employee professionalism communicate daily client management key positioned employees involved daily operation drive customer satisfaction results cabin service manager company city state managed team man employees managed team leaders directly responsible building day schedule employees responsible coaching counseling documenting employees managed entire concourse ramp communicated managed dispatcher responsible providing dispatcher staff effort turn aircraft day time turn operation responsible managing processes cbp responsible controlling operation failures pushed safety policies regularly cabin service supervisor company city state assistant manager scheduling employees execute directives provided leadership support team leaders assistant aircraft needed continuously provide safety patrol ramp concourse daily held briefing communicate information pasted management train employees team leaders service aircraft cabin service supervisor company city state maintain appearance equipment utilized operations assistant manager scheduling employees execute directives provided leadership support team leaders assistant aircraft needed continuously provide safety patrol ramp concourse daily held briefing communicate information pasted management train employees team leaders service aircraft education training high school diploma academics college park high city state usa academics technical skills months experience cbp seal process admin office work compiling information applications typing submitting applications cbp managing approved rejected applicants handled weekly meeting cbp provided updated based meeting management maintained red black seal count list provided weekly seal list hr management directing employees coming office assistance professionally handling calls directing callers assisting senior managers office needs copying computer input uniform issuing sorting')"
      ]
    }
  ],
  "metadata": {
    "accelerator": "GPU",
    "colab": {
      "gpuType": "A100",
      "machine_shape": "hm",
      "provenance": [],
      "mount_file_id": "1phQCfei_NrXu6pyCrXtGGuf2VZhwURGt",
      "authorship_tag": "ABX9TyPCmKwcH8S2yJ5NhBtFIXXk",
      "include_colab_link": true
    },
    "kernelspec": {
      "display_name": "Python 3",
      "name": "python3"
    },
    "language_info": {
      "name": "python"
    }
  },
  "nbformat": 4,
  "nbformat_minor": 0
}