{
  "nbformat": 4,
  "nbformat_minor": 0,
  "metadata": {
    "colab": {
      "provenance": [],
      "authorship_tag": "ABX9TyN7IlE4MLaggMnQ5cwj7Llw",
      "include_colab_link": true
    },
    "kernelspec": {
      "name": "python3",
      "display_name": "Python 3"
    },
    "language_info": {
      "name": "python"
    }
  },
  "cells": [
    {
      "cell_type": "markdown",
      "metadata": {
        "id": "view-in-github",
        "colab_type": "text"
      },
      "source": [
        "<a href=\"https://colab.research.google.com/github/sarahwierzbicki/projects/blob/main/preprocessing_module.ipynb\" target=\"_parent\"><img src=\"https://colab.research.google.com/assets/colab-badge.svg\" alt=\"Open In Colab\"/></a>"
      ]
    },
    {
      "cell_type": "code",
      "source": [
        "#imports\n",
        "from PyPDF2 import PdfReader\n",
        "from docx import Document\n",
        "import spacy\n",
        "import numpy as np\n",
        "import pandas as pd\n",
        "import re"
      ],
      "metadata": {
        "id": "KXMm-wE4_oX_"
      },
      "execution_count": null,
      "outputs": []
    },
    {
      "cell_type": "code",
      "execution_count": null,
      "metadata": {
        "id": "QiQ_zpWm6jVn"
      },
      "outputs": [],
      "source": [
        "#file upload from user\n",
        "#pdf function\n",
        "def get_pdf_text(pdf_path):\n",
        "  text = \"\"\n",
        "  try:\n",
        "    with open(pdf_path, 'rb') as file:\n",
        "      reader = PdfReader(file)\n",
        "      for page in reader.pages:\n",
        "        text += page.extract_text()\n",
        "  except Exception as e:\n",
        "    print(f\"Error reading your PDF file: {e}\")\n",
        "  return text"
      ]
    },
    {
      "cell_type": "code",
      "source": [
        "#docx function\n",
        "def get_docx_text(docx_path):\n",
        "  text = \"\"\n",
        "  try:\n",
        "    document = Document(docx_path)\n",
        "    for paragraph in document.paragraphs:\n",
        "      text += paragraph.text + \"\\n\"\n",
        "  except Exception as e:\n",
        "    print(f\"Error reading you Docx file: {e}\")\n",
        "  return text"
      ],
      "metadata": {
        "id": "HRYRyOXs9lBr"
      },
      "execution_count": null,
      "outputs": []
    },
    {
      "cell_type": "code",
      "source": [
        "#en_core_web_sm is the english language model\n",
        "nlp = spacy.load('en_core_web_sm')\n",
        "stopwords = nlp.Defaults.stop_words"
      ],
      "metadata": {
        "id": "0eVDRrrq_H3i"
      },
      "execution_count": null,
      "outputs": []
    },
    {
      "cell_type": "code",
      "source": [
        "#normalize text (lowercase, no urls, special characters, stopwords)\n",
        "def process(text):\n",
        "  text = text.lower()\n",
        "  url = re.compile(r'https?://\\S+|www\\.\\S+')\n",
        "  email = re.compile(r'\\b[A-Za-z0-9._%+-]+@[A-Za-z0-9.-]+\\.[A-Z|a-z]{2,}\\b')\n",
        "  clean_text = url.sub('', text)\n",
        "  clean_text = email.sub('', clean_text)\n",
        "  #only words and whitespace\n",
        "  clean_text = re.sub('[^a-zA-Z]', ' ', text)\n",
        "  #no stop words\n",
        "  stop_words = stopwords\n",
        "  clean_text = ' '.join(word for word in clean_text.split() if word.lower() not in stop_words)\n",
        "\n",
        "  return clean_text"
      ],
      "metadata": {
        "id": "vQcO4xu4_MfR"
      },
      "execution_count": null,
      "outputs": []
    },
    {
      "cell_type": "code",
      "source": [
        "def get_keyphrases(text):\n",
        "  key_phrases = []\n",
        "  doc = nlp(text)\n",
        "  for chunk in spacy_doc.noun_chunks:\n",
        "    key_phrases.append(chunk.text)\n",
        "  return key_phrases"
      ],
      "metadata": {
        "id": "a3Bcjh1c_P8p"
      },
      "execution_count": null,
      "outputs": []
    },
    {
      "cell_type": "code",
      "source": [
        "def get_keywords(text):\n",
        "  result = []\n",
        "  pos_tag = ['PROPN', 'ADJ', 'NOUN']\n",
        "  doc = nlp(text)\n",
        "  for token in doc:\n",
        "    #if(token.text in nlp.Defaults.stop_words or token.text in punctuation):\n",
        "      #continue\n",
        "    if(token.pos_ in pos_tag):\n",
        "      result.append(token.text)\n",
        "  return result"
      ],
      "metadata": {
        "id": "TYuWaz4C_RJZ"
      },
      "execution_count": null,
      "outputs": []
    }
  ]
}